{
 "cells": [
  {
   "cell_type": "markdown",
   "id": "fcca1390",
   "metadata": {},
   "source": [
    "# Battery Simulator\n",
    "\n",
    "This notebook simulates home battery systems to optimize energy costs based on day-ahead pricing data.\n"
   ]
  },
  {
   "cell_type": "markdown",
   "id": "7e22f86f",
   "metadata": {},
   "source": [
    "## 1. Imports and Setup\n"
   ]
  },
  {
   "cell_type": "code",
   "execution_count": 1,
   "id": "8123790e",
   "metadata": {},
   "outputs": [
    {
     "data": {
      "text/plain": [
       "RendererRegistry.enable('mimetype')"
      ]
     },
     "execution_count": 1,
     "metadata": {},
     "output_type": "execute_result"
    }
   ],
   "source": [
    "import pandas as pd\n",
    "from datetime import datetime\n",
    "from typing import Dict\n",
    "import altair as alt\n",
    "import pulp\n",
    "\n",
    "# Import from our battery simulator module\n",
    "from battery_simulator import BatterySimulator, BatteryConfig, plot_hourly_battery_operation, plot_profit_by_period\n",
    "\n",
    "# Configure Altair\n",
    "alt.data_transformers.disable_max_rows()\n",
    "alt.renderers.enable(\"mimetype\")\n"
   ]
  },
  {
   "cell_type": "markdown",
   "id": "42a7511c",
   "metadata": {},
   "source": [
    "## 2. Battery System Constants\n",
    "\n",
    "Configure the parameters for your battery system here. The parameters are currently set to a 628Ah, 16-cell, 48V battery architecture and a Victron MultiPlus-II charger/inverter."
   ]
  },
  {
   "cell_type": "code",
   "execution_count": 2,
   "id": "ba9f78c8",
   "metadata": {},
   "outputs": [],
   "source": [
    "BATTERY_CAPACITY_WH = 628 * 3.45 * 16\n",
    "CHARGE_RATE_W = 4000\n",
    "DISCHARGE_RATE_W = 3000\n",
    "\n",
    "CHARGE_EFFICIENCY = 0.90\n",
    "DISCHARGE_EFFICIENCY = 0.90\n",
    "\n",
    "INITIAL_SOC = 0.10\n",
    "MIN_SOC = 0.10\n",
    "MAX_SOC = 0.90\n",
    "\n",
    "# Economics (for wear optimization)\n",
    "BATTERY_COST_EUR = 1500  # Total battery replacement cost\n",
    "BATTERY_CYCLE_LIFE = 6000  # Rated cycle life to 80% capacity\n",
    "COST_PER_CYCLE = BATTERY_COST_EUR / BATTERY_CYCLE_LIFE\n",
    "\n",
    "BATTERY_CONFIG: BatteryConfig = {\n",
    "    \"capacity_wh\": BATTERY_CAPACITY_WH,\n",
    "    \"charge_rate_w\": CHARGE_RATE_W,\n",
    "    \"discharge_rate_w\": DISCHARGE_RATE_W,\n",
    "    \"charge_efficiency\": CHARGE_EFFICIENCY,\n",
    "    \"discharge_efficiency\": DISCHARGE_EFFICIENCY,\n",
    "    \"min_soc\": MIN_SOC,\n",
    "    \"max_soc\": MAX_SOC,\n",
    "    \"initial_soc\": INITIAL_SOC,\n",
    "    \"cost_per_cycle\": COST_PER_CYCLE,\n",
    "}"
   ]
  },
  {
   "cell_type": "markdown",
   "id": "cafc4922",
   "metadata": {},
   "source": [
    "## 3. Algorithms\n",
    "\n",
    "The below cell defines algorithms that can be pushed into the BatterySimulator to check their real-world performance.\n"
   ]
  },
  {
   "cell_type": "code",
   "execution_count": 3,
   "id": "e45412f6",
   "metadata": {},
   "outputs": [],
   "source": [
    "def lp_algorithm(\n",
    "    current_time: datetime,\n",
    "    battery_soc: float,\n",
    "    known_prices: pd.DataFrame,\n",
    "    battery_specs: BatteryConfig,\n",
    "    state: Dict = None\n",
    "):\n",
    "    \"\"\"\n",
    "    Optimal battery scheduling using Linear Programming.\n",
    "    \n",
    "    Strategy:\n",
    "    - At 13:00 daily: solve an LP to find globally optimal charge/discharge schedule\n",
    "    - Objective: Maximize profit (revenue from discharge - cost of charge)\n",
    "    - Constraints:\n",
    "      * Battery SOC continuity (energy balance over time)\n",
    "      * SOC limits (min_soc to max_soc)\n",
    "      * Power limits (max charge/discharge rates)\n",
    "      * Efficiency losses (charge_efficiency, discharge_efficiency)\n",
    "      * Cannot charge and discharge simultaneously\n",
    "    \n",
    "    This finds the mathematically optimal solution within the planning horizon,\n",
    "    unlike heuristics which use rules of thumb.\n",
    "    \n",
    "    Returns:\n",
    "        Tuple of (desired_power_w, new_state)\n",
    "    \"\"\"\n",
    "    \n",
    "    if state is None:\n",
    "        state = {}\n",
    "    \n",
    "    current_hour = current_time.hour\n",
    "    \n",
    "    # Solve optimization at 13:00 or if we don't have a schedule\n",
    "    if current_hour == 13 or 'schedule' not in state or state.get('last_schedule_date') != current_time.date():\n",
    "        # Get all known prices (up to 48 hours at 13:00)\n",
    "        future_prices = known_prices[known_prices['datetime'] >= current_time].copy()\n",
    "        \n",
    "        if len(future_prices) < 2:\n",
    "            return 0.0, state\n",
    "        \n",
    "        # Extract battery parameters\n",
    "        capacity_wh = battery_specs['capacity_wh']\n",
    "        charge_rate_w = battery_specs['charge_rate_w']\n",
    "        discharge_rate_w = battery_specs['discharge_rate_w']\n",
    "        charge_eff = battery_specs['charge_efficiency']\n",
    "        discharge_eff = battery_specs['discharge_efficiency']\n",
    "        min_soc = battery_specs['min_soc']\n",
    "        max_soc = battery_specs['max_soc']\n",
    "        \n",
    "        # Time horizon\n",
    "        T = len(future_prices)\n",
    "        times = list(range(T))\n",
    "        \n",
    "        # Create LP problem - maximize profit (minimize cost)\n",
    "        prob = pulp.LpProblem(\"Battery_Optimization\", pulp.LpMinimize)\n",
    "        \n",
    "        # Decision variables\n",
    "        # charge[t] = energy charged from grid in hour t (kWh, >= 0)\n",
    "        charge = pulp.LpVariable.dicts(\"charge\", times, lowBound=0, upBound=charge_rate_w/1000)\n",
    "        \n",
    "        # discharge[t] = energy discharged to grid in hour t (kWh, >= 0)\n",
    "        discharge = pulp.LpVariable.dicts(\"discharge\", times, lowBound=0, upBound=discharge_rate_w/1000)\n",
    "        \n",
    "        # soc[t] = state of charge at END of hour t (fraction, 0-1)\n",
    "        soc = pulp.LpVariable.dicts(\"soc\", times, lowBound=min_soc, upBound=max_soc)\n",
    "        \n",
    "        # Binary variables to prevent simultaneous charge/discharge\n",
    "        is_charging = pulp.LpVariable.dicts(\"is_charging\", times, cat='Binary')\n",
    "        is_discharging = pulp.LpVariable.dicts(\"is_discharging\", times, cat='Binary')\n",
    "        \n",
    "        # Variables for cycle cost calculation (linearization of |SOC[t] - SOC[t-1]|)\n",
    "        soc_delta = pulp.LpVariable.dicts(\"soc_delta\", times, lowBound=0)\n",
    "        \n",
    "        # Objective: minimize cost (negative revenue = maximize profit) + cycle wear cost\n",
    "        # Cost = sum over time of (charge_cost - discharge_revenue + cycle_cost)\n",
    "        prices = future_prices['price'].values\n",
    "        cost_per_cycle = battery_specs.get('cost_per_cycle', 0.0)\n",
    "        usable_range = max_soc - min_soc\n",
    "        \n",
    "        # Convert cycle cost from \"per full cycle\" to \"per SOC unit\"\n",
    "        cycle_cost_per_soc_unit = cost_per_cycle / usable_range if usable_range > 0 else 0\n",
    "        \n",
    "        prob += pulp.lpSum([\n",
    "            prices[t] * charge[t] - prices[t] * discharge[t] + cycle_cost_per_soc_unit * soc_delta[t]\n",
    "            for t in times\n",
    "        ]), \"Total_Cost\"\n",
    "        \n",
    "        # Constraints\n",
    "        for t in times:\n",
    "            # SOC continuity constraint\n",
    "            if t == 0:\n",
    "                # Initial SOC is current battery state\n",
    "                energy_in = charge[t] * charge_eff * 1000  # Convert kWh to Wh\n",
    "                energy_out = discharge[t] / discharge_eff * 1000\n",
    "                prob += soc[t] == battery_soc + (energy_in - energy_out) / capacity_wh\n",
    "                \n",
    "                # Cycle cost: delta from initial state\n",
    "                prob += soc_delta[t] >= soc[t] - battery_soc\n",
    "                prob += soc_delta[t] >= battery_soc - soc[t]\n",
    "            else:\n",
    "                # SOC evolves based on previous SOC + charge - discharge\n",
    "                energy_in = charge[t] * charge_eff * 1000\n",
    "                energy_out = discharge[t] / discharge_eff * 1000\n",
    "                prob += soc[t] == soc[t-1] + (energy_in - energy_out) / capacity_wh\n",
    "                \n",
    "                # Cycle cost: |SOC[t] - SOC[t-1]| linearization\n",
    "                prob += soc_delta[t] >= soc[t] - soc[t-1]\n",
    "                prob += soc_delta[t] >= soc[t-1] - soc[t]\n",
    "            \n",
    "            # Cannot charge and discharge at the same time\n",
    "            prob += is_charging[t] + is_discharging[t] <= 1\n",
    "            \n",
    "            # Link binary variables to continuous variables\n",
    "            # If not charging, charge must be 0\n",
    "            prob += charge[t] <= is_charging[t] * (charge_rate_w / 1000)\n",
    "            \n",
    "            # If not discharging, discharge must be 0\n",
    "            prob += discharge[t] <= is_discharging[t] * (discharge_rate_w / 1000)\n",
    "        \n",
    "        # Solve the LP\n",
    "        prob.solve(pulp.PULP_CBC_CMD(msg=0))  # Silent solver\n",
    "        \n",
    "        # Extract optimal schedule\n",
    "        schedule = {}\n",
    "        for t in times:\n",
    "            dt = future_prices.iloc[t]['datetime']\n",
    "            charge_val = pulp.value(charge[t]) or 0\n",
    "            discharge_val = pulp.value(discharge[t]) or 0\n",
    "            \n",
    "            if charge_val > 0.001:  # Small threshold for numerical stability\n",
    "                schedule[dt] = ('charge', charge_val * 1000)  # Convert back to Wh\n",
    "            elif discharge_val > 0.001:\n",
    "                schedule[dt] = ('discharge', discharge_val * 1000)\n",
    "            else:\n",
    "                schedule[dt] = ('idle', 0)\n",
    "        \n",
    "        state['schedule'] = schedule\n",
    "        state['last_schedule_date'] = current_time.date()\n",
    "        state['solver_status'] = pulp.LpStatus[prob.status]\n",
    "    \n",
    "    # Execute scheduled action for current hour\n",
    "    action, energy_wh = state['schedule'].get(current_time, ('idle', 0))\n",
    "    \n",
    "    if action == 'charge' and battery_soc < battery_specs['max_soc'] - 0.01:\n",
    "        # Return power in watts (rate for 1 hour = energy in Wh)\n",
    "        return float(min(energy_wh, battery_specs['charge_rate_w'])), state\n",
    "    \n",
    "    elif action == 'discharge' and battery_soc > battery_specs['min_soc'] + 0.01:\n",
    "        # Negative for discharge\n",
    "        return -float(min(energy_wh, battery_specs['discharge_rate_w'])), state\n",
    "    \n",
    "    else:\n",
    "        return 0.0, state\n"
   ]
  },
  {
   "cell_type": "code",
   "execution_count": 4,
   "id": "8270a35a",
   "metadata": {},
   "outputs": [
    {
     "name": "stdout",
     "output_type": "stream",
     "text": [
      "Simulation complete: 50874 hours processed\n"
     ]
    }
   ],
   "source": [
    "# Run Linear Programming algorithm\n",
    "simulator_lp = BatterySimulator(BATTERY_CONFIG)\n",
    "results_lp = simulator_lp.run(lp_algorithm)\n"
   ]
  },
  {
   "cell_type": "code",
   "execution_count": 5,
   "id": "398ad8eb",
   "metadata": {},
   "outputs": [
    {
     "data": {
      "application/vnd.vegalite.v5+json": {
       "$schema": "https://vega.github.io/schema/vega-lite/v5.20.1.json",
       "config": {
        "view": {
         "continuousHeight": 300,
         "continuousWidth": 300
        }
       },
       "datasets": {
        "data-3cde77566bc03565e0daf2251b59927e": [
         {
          "battery_state": "charging",
          "cycle_fraction": 0.1298116865134312,
          "datetime": "2024-12-10T00:00:00",
          "energy_kwh": 4,
          "grid_cost_eur": 0.34,
          "power_w": 4000,
          "price_eur_kwh": 0.085,
          "soc_end": 0.6650507092420117,
          "soc_start": 0.5612013600312667
         },
         {
          "battery_state": "charging",
          "cycle_fraction": 0.1298116865134312,
          "datetime": "2024-12-10T01:00:00",
          "energy_kwh": 4,
          "grid_cost_eur": 0.33972,
          "power_w": 4000,
          "price_eur_kwh": 0.08493,
          "soc_end": 0.7689000584527567,
          "soc_start": 0.6650507092420117
         },
         {
          "battery_state": "charging",
          "cycle_fraction": 0.1298116865134312,
          "datetime": "2024-12-10T02:00:00",
          "energy_kwh": 4,
          "grid_cost_eur": 0.3348,
          "power_w": 4000,
          "price_eur_kwh": 0.0837,
          "soc_end": 0.8727494076635016,
          "soc_start": 0.7689000584527567
         },
         {
          "battery_state": "charging",
          "cycle_fraction": 0.03065691637856069,
          "datetime": "2024-12-10T03:00:00",
          "energy_kwh": 0.9446581337001191,
          "grid_cost_eur": 0.08238363583998738,
          "power_w": 944.658133700119,
          "price_eur_kwh": 0.08721,
          "soc_end": 0.8972749407663502,
          "soc_start": 0.8727494076635016
         },
         {
          "battery_state": "idle",
          "cycle_fraction": 0,
          "datetime": "2024-12-10T04:00:00",
          "energy_kwh": 0,
          "grid_cost_eur": 0,
          "power_w": 0,
          "price_eur_kwh": 0.08769,
          "soc_end": 0.8972749407663502,
          "soc_start": 0.8972749407663502
         },
         {
          "battery_state": "idle",
          "cycle_fraction": 0,
          "datetime": "2024-12-10T05:00:00",
          "energy_kwh": 0,
          "grid_cost_eur": 0,
          "power_w": 0,
          "price_eur_kwh": 0.1,
          "soc_end": 0.8972749407663502,
          "soc_start": 0.8972749407663502
         },
         {
          "battery_state": "idle",
          "cycle_fraction": 0,
          "datetime": "2024-12-10T06:00:00",
          "energy_kwh": 0,
          "grid_cost_eur": 0,
          "power_w": 0,
          "price_eur_kwh": 0.11279,
          "soc_end": 0.8972749407663502,
          "soc_start": 0.8972749407663502
         },
         {
          "battery_state": "idle",
          "cycle_fraction": 0,
          "datetime": "2024-12-10T07:00:00",
          "energy_kwh": 0,
          "grid_cost_eur": 0,
          "power_w": 0,
          "price_eur_kwh": 0.13423,
          "soc_end": 0.8972749407663502,
          "soc_start": 0.8972749407663502
         },
         {
          "battery_state": "discharging",
          "cycle_fraction": 0.03458875657712551,
          "datetime": "2024-12-10T08:00:00",
          "energy_kwh": -0.8633088,
          "grid_cost_eur": -0.136169697024,
          "power_w": -959.232,
          "price_eur_kwh": 0.15773,
          "soc_end": 0.8696039355046498,
          "soc_start": 0.8972749407663502
         },
         {
          "battery_state": "idle",
          "cycle_fraction": 0,
          "datetime": "2024-12-10T09:00:00",
          "energy_kwh": 0,
          "grid_cost_eur": 0,
          "power_w": 0,
          "price_eur_kwh": 0.15313,
          "soc_end": 0.8696039355046498,
          "soc_start": 0.8696039355046498
         },
         {
          "battery_state": "discharging",
          "cycle_fraction": 0.1081764054278593,
          "datetime": "2024-12-10T10:00:00",
          "energy_kwh": -2.7,
          "grid_cost_eur": -0.44010000000000005,
          "power_w": -3000,
          "price_eur_kwh": 0.163,
          "soc_end": 0.7830628111623623,
          "soc_start": 0.8696039355046498
         },
         {
          "battery_state": "idle",
          "cycle_fraction": 0,
          "datetime": "2024-12-10T11:00:00",
          "energy_kwh": 0,
          "grid_cost_eur": 0,
          "power_w": 0,
          "price_eur_kwh": 0.13522,
          "soc_end": 0.7830628111623623,
          "soc_start": 0.7830628111623623
         },
         {
          "battery_state": "discharging",
          "cycle_fraction": 0.1081764054278593,
          "datetime": "2024-12-10T12:00:00",
          "energy_kwh": -2.7,
          "grid_cost_eur": -0.456705,
          "power_w": -3000,
          "price_eur_kwh": 0.16915,
          "soc_end": 0.6965216868200749,
          "soc_start": 0.7830628111623623
         },
         {
          "battery_state": "discharging",
          "cycle_fraction": 0.1081764054278593,
          "datetime": "2024-12-10T13:00:00",
          "energy_kwh": -2.7,
          "grid_cost_eur": -0.457596,
          "power_w": -3000,
          "price_eur_kwh": 0.16948,
          "soc_end": 0.6099805624777874,
          "soc_start": 0.6965216868200749
         },
         {
          "battery_state": "discharging",
          "cycle_fraction": 0.1081764054278593,
          "datetime": "2024-12-10T14:00:00",
          "energy_kwh": -2.7,
          "grid_cost_eur": -0.4768200000000001,
          "power_w": -3000,
          "price_eur_kwh": 0.1766,
          "soc_end": 0.5234394381355,
          "soc_start": 0.6099805624777874
         },
         {
          "battery_state": "discharging",
          "cycle_fraction": 0.1081764054278593,
          "datetime": "2024-12-10T15:00:00",
          "energy_kwh": -2.7,
          "grid_cost_eur": -0.485919,
          "power_w": -3000,
          "price_eur_kwh": 0.17997,
          "soc_end": 0.43689831379321253,
          "soc_start": 0.5234394381355
         },
         {
          "battery_state": "discharging",
          "cycle_fraction": 0.1081764054278593,
          "datetime": "2024-12-10T16:00:00",
          "energy_kwh": -2.7,
          "grid_cost_eur": -0.43173,
          "power_w": -3000,
          "price_eur_kwh": 0.1599,
          "soc_end": 0.3503571894509251,
          "soc_start": 0.43689831379321253
         },
         {
          "battery_state": "discharging",
          "cycle_fraction": 0.1081764054278593,
          "datetime": "2024-12-10T17:00:00",
          "energy_kwh": -2.7,
          "grid_cost_eur": -0.4887,
          "power_w": -3000,
          "price_eur_kwh": 0.181,
          "soc_end": 0.26381606510863764,
          "soc_start": 0.3503571894509251
         },
         {
          "battery_state": "discharging",
          "cycle_fraction": 0.1081764054278593,
          "datetime": "2024-12-10T18:00:00",
          "energy_kwh": -2.7,
          "grid_cost_eur": -0.476955,
          "power_w": -3000,
          "price_eur_kwh": 0.17665,
          "soc_end": 0.1772749407663502,
          "soc_start": 0.26381606510863764
         },
         {
          "battery_state": "idle",
          "cycle_fraction": 0,
          "datetime": "2024-12-10T19:00:00",
          "energy_kwh": 0,
          "grid_cost_eur": 0,
          "power_w": 0,
          "price_eur_kwh": 0.15198,
          "soc_end": 0.1772749407663502,
          "soc_start": 0.1772749407663502
         },
         {
          "battery_state": "idle",
          "cycle_fraction": 0,
          "datetime": "2024-12-10T20:00:00",
          "energy_kwh": 0,
          "grid_cost_eur": 0,
          "power_w": 0,
          "price_eur_kwh": 0.12,
          "soc_end": 0.1772749407663502,
          "soc_start": 0.1772749407663502
         },
         {
          "battery_state": "charging",
          "cycle_fraction": 0.06684212086333424,
          "datetime": "2024-12-10T21:00:00",
          "energy_kwh": 2.0596642,
          "grid_cost_eur": 0.22079600223999998,
          "power_w": 2059.6641999999997,
          "price_eur_kwh": 0.1072,
          "soc_end": 0.2307486374570176,
          "soc_start": 0.1772749407663502
         },
         {
          "battery_state": "idle",
          "cycle_fraction": 0,
          "datetime": "2024-12-10T22:00:00",
          "energy_kwh": 0,
          "grid_cost_eur": 0,
          "power_w": 0,
          "price_eur_kwh": 0.12137,
          "soc_end": 0.2307486374570176,
          "soc_start": 0.2307486374570176
         },
         {
          "battery_state": "charging",
          "cycle_fraction": 0.12981168651343114,
          "datetime": "2024-12-10T23:00:00",
          "energy_kwh": 4,
          "grid_cost_eur": 0.4,
          "power_w": 4000,
          "price_eur_kwh": 0.1,
          "soc_end": 0.3345979866677625,
          "soc_start": 0.2307486374570176
         },
         {
          "battery_state": "charging",
          "cycle_fraction": 0.057694083616034314,
          "datetime": "2024-12-11T00:00:00",
          "energy_kwh": 1.7777778,
          "grid_cost_eur": 0.18106666892999998,
          "power_w": 1777.7778,
          "price_eur_kwh": 0.10185,
          "soc_end": 0.38075325356059,
          "soc_start": 0.3345979866677625
         },
         {
          "battery_state": "charging",
          "cycle_fraction": 0.1298116865134312,
          "datetime": "2024-12-11T01:00:00",
          "energy_kwh": 4,
          "grid_cost_eur": 0.38616,
          "power_w": 4000,
          "price_eur_kwh": 0.09654,
          "soc_end": 0.48460260277133493,
          "soc_start": 0.38075325356059
         },
         {
          "battery_state": "charging",
          "cycle_fraction": 0.1298116865134312,
          "datetime": "2024-12-11T02:00:00",
          "energy_kwh": 4,
          "grid_cost_eur": 0.3884,
          "power_w": 4000,
          "price_eur_kwh": 0.0971,
          "soc_end": 0.5884519519820799,
          "soc_start": 0.48460260277133493
         },
         {
          "battery_state": "charging",
          "cycle_fraction": 0.1298116865134312,
          "datetime": "2024-12-11T03:00:00",
          "energy_kwh": 4,
          "grid_cost_eur": 0.38604,
          "power_w": 4000,
          "price_eur_kwh": 0.09651,
          "soc_end": 0.6923013011928248,
          "soc_start": 0.5884519519820799
         },
         {
          "battery_state": "charging",
          "cycle_fraction": 0.1298116865134312,
          "datetime": "2024-12-11T04:00:00",
          "energy_kwh": 4,
          "grid_cost_eur": 0.3884,
          "power_w": 4000,
          "price_eur_kwh": 0.0971,
          "soc_end": 0.7961506504035698,
          "soc_start": 0.6923013011928248
         },
         {
          "battery_state": "charging",
          "cycle_fraction": 0.11683051829598404,
          "datetime": "2024-12-11T05:00:00",
          "energy_kwh": 3.6000000133700114,
          "grid_cost_eur": 0.3603600013383381,
          "power_w": 3600.0000133700114,
          "price_eur_kwh": 0.1001,
          "soc_end": 0.889615065040357,
          "soc_start": 0.7961506504035698
         },
         {
          "battery_state": "idle",
          "cycle_fraction": 0,
          "datetime": "2024-12-11T06:00:00",
          "energy_kwh": 0,
          "grid_cost_eur": 0,
          "power_w": 0,
          "price_eur_kwh": 0.12,
          "soc_end": 0.889615065040357,
          "soc_start": 0.889615065040357
         },
         {
          "battery_state": "idle",
          "cycle_fraction": 0,
          "datetime": "2024-12-11T07:00:00",
          "energy_kwh": 0,
          "grid_cost_eur": 0,
          "power_w": 0,
          "price_eur_kwh": 0.24767,
          "soc_end": 0.889615065040357,
          "soc_start": 0.889615065040357
         },
         {
          "battery_state": "idle",
          "cycle_fraction": 0,
          "datetime": "2024-12-11T08:00:00",
          "energy_kwh": 0,
          "grid_cost_eur": 0,
          "power_w": 0,
          "price_eur_kwh": 0.3001,
          "soc_end": 0.889615065040357,
          "soc_start": 0.889615065040357
         },
         {
          "battery_state": "discharging",
          "cycle_fraction": 0.1081764054278593,
          "datetime": "2024-12-11T09:00:00",
          "energy_kwh": -2.7,
          "grid_cost_eur": -0.869805,
          "power_w": -3000,
          "price_eur_kwh": 0.32215,
          "soc_end": 0.8030739406980696,
          "soc_start": 0.889615065040357
         },
         {
          "battery_state": "discharging",
          "cycle_fraction": 0.1081764054278593,
          "datetime": "2024-12-11T10:00:00",
          "energy_kwh": -2.7,
          "grid_cost_eur": -0.862164,
          "power_w": -3000,
          "price_eur_kwh": 0.31932,
          "soc_end": 0.7165328163557821,
          "soc_start": 0.8030739406980696
         },
         {
          "battery_state": "discharging",
          "cycle_fraction": 0.03458875657712551,
          "datetime": "2024-12-11T11:00:00",
          "energy_kwh": -0.8633088,
          "grid_cost_eur": -0.26924011545599996,
          "power_w": -959.232,
          "price_eur_kwh": 0.31187,
          "soc_end": 0.6888618110940817,
          "soc_start": 0.7165328163557821
         },
         {
          "battery_state": "discharging",
          "cycle_fraction": 0.1081764054278593,
          "datetime": "2024-12-11T12:00:00",
          "energy_kwh": -2.7,
          "grid_cost_eur": -0.8625150000000001,
          "power_w": -3000,
          "price_eur_kwh": 0.31945,
          "soc_end": 0.6023206867517943,
          "soc_start": 0.6888618110940817
         },
         {
          "battery_state": "discharging",
          "cycle_fraction": 0.1081764054278593,
          "datetime": "2024-12-11T13:00:00",
          "energy_kwh": -2.7,
          "grid_cost_eur": -0.923751,
          "power_w": -3000,
          "price_eur_kwh": 0.34213,
          "soc_end": 0.5157795624095068,
          "soc_start": 0.6023206867517943
         },
         {
          "battery_state": "discharging",
          "cycle_fraction": 0.1081764054278593,
          "datetime": "2024-12-11T14:00:00",
          "energy_kwh": -2.7,
          "grid_cost_eur": -0.959553,
          "power_w": -3000,
          "price_eur_kwh": 0.35539,
          "soc_end": 0.4292384380672194,
          "soc_start": 0.5157795624095068
         },
         {
          "battery_state": "discharging",
          "cycle_fraction": 0.1081764054278593,
          "datetime": "2024-12-11T15:00:00",
          "energy_kwh": -2.7,
          "grid_cost_eur": -1.112238,
          "power_w": -3000,
          "price_eur_kwh": 0.41194,
          "soc_end": 0.34269731372493195,
          "soc_start": 0.4292384380672194
         },
         {
          "battery_state": "discharging",
          "cycle_fraction": 0.1081764054278593,
          "datetime": "2024-12-11T16:00:00",
          "energy_kwh": -2.7,
          "grid_cost_eur": -1.142451,
          "power_w": -3000,
          "price_eur_kwh": 0.42313,
          "soc_end": 0.2561561893826445,
          "soc_start": 0.34269731372493195
         },
         {
          "battery_state": "discharging",
          "cycle_fraction": 0.1081764054278593,
          "datetime": "2024-12-11T17:00:00",
          "energy_kwh": -2.7,
          "grid_cost_eur": -0.9431370000000001,
          "power_w": -3000,
          "price_eur_kwh": 0.34931,
          "soc_end": 0.16961506504035706,
          "soc_start": 0.2561561893826445
         },
         {
          "battery_state": "discharging",
          "cycle_fraction": 0.024228745499861523,
          "datetime": "2024-12-11T18:00:00",
          "energy_kwh": -0.6047308800000001,
          "grid_cost_eur": -0.18040331612160002,
          "power_w": -671.9232000000001,
          "price_eur_kwh": 0.29832,
          "soc_end": 0.15023206864046784,
          "soc_start": 0.16961506504035706
         },
         {
          "battery_state": "idle",
          "cycle_fraction": 0,
          "datetime": "2024-12-11T19:00:00",
          "energy_kwh": 0,
          "grid_cost_eur": 0,
          "power_w": 0,
          "price_eur_kwh": 0.19313,
          "soc_end": 0.15023206864046784,
          "soc_start": 0.15023206864046784
         },
         {
          "battery_state": "idle",
          "cycle_fraction": 0,
          "datetime": "2024-12-11T20:00:00",
          "energy_kwh": 0,
          "grid_cost_eur": 0,
          "power_w": 0,
          "price_eur_kwh": 0.15468,
          "soc_end": 0.15023206864046784,
          "soc_start": 0.15023206864046784
         },
         {
          "battery_state": "charging",
          "cycle_fraction": 0.0913181954877458,
          "datetime": "2024-12-11T21:00:00",
          "energy_kwh": 2.8138667,
          "grid_cost_eur": 0.42208000500000004,
          "power_w": 2813.8667,
          "price_eur_kwh": 0.15,
          "soc_end": 0.2232866250306645,
          "soc_start": 0.15023206864046784
         },
         {
          "battery_state": "charging",
          "cycle_fraction": 0.1298116865134312,
          "datetime": "2024-12-11T22:00:00",
          "energy_kwh": 4,
          "grid_cost_eur": 0.54384,
          "power_w": 4000,
          "price_eur_kwh": 0.13596,
          "soc_end": 0.32713597424140944,
          "soc_start": 0.2232866250306645
         },
         {
          "battery_state": "charging",
          "cycle_fraction": 0.1298116865134312,
          "datetime": "2024-12-11T23:00:00",
          "energy_kwh": 4,
          "grid_cost_eur": 0.48896,
          "power_w": 4000,
          "price_eur_kwh": 0.12224,
          "soc_end": 0.4309853234521544,
          "soc_start": 0.32713597424140944
         },
         {
          "battery_state": "charging",
          "cycle_fraction": 0.12981168651343125,
          "datetime": "2024-12-12T00:00:00",
          "energy_kwh": 4,
          "grid_cost_eur": 0.4612,
          "power_w": 4000,
          "price_eur_kwh": 0.1153,
          "soc_end": 0.5348346726628994,
          "soc_start": 0.4309853234521544
         },
         {
          "battery_state": "charging",
          "cycle_fraction": 0.1298116865134312,
          "datetime": "2024-12-12T01:00:00",
          "energy_kwh": 4,
          "grid_cost_eur": 0.43984,
          "power_w": 4000,
          "price_eur_kwh": 0.10996,
          "soc_end": 0.6386840218736444,
          "soc_start": 0.5348346726628994
         },
         {
          "battery_state": "charging",
          "cycle_fraction": 0.1298116865134312,
          "datetime": "2024-12-12T02:00:00",
          "energy_kwh": 4,
          "grid_cost_eur": 0.4294,
          "power_w": 4000,
          "price_eur_kwh": 0.10735,
          "soc_end": 0.7425333710843893,
          "soc_start": 0.6386840218736444
         },
         {
          "battery_state": "charging",
          "cycle_fraction": 0.1298116865134312,
          "datetime": "2024-12-12T03:00:00",
          "energy_kwh": 4,
          "grid_cost_eur": 0.45004,
          "power_w": 4000,
          "price_eur_kwh": 0.11251,
          "soc_end": 0.8463827202951343,
          "soc_start": 0.7425333710843893
         },
         {
          "battery_state": "charging",
          "cycle_fraction": 0.0603194396679739,
          "datetime": "2024-12-12T04:00:00",
          "energy_kwh": 1.8586751713369936,
          "grid_cost_eur": 0.22930475588784488,
          "power_w": 1858.6751713369936,
          "price_eur_kwh": 0.12337,
          "soc_end": 0.8946382720295134,
          "soc_start": 0.8463827202951343
         },
         {
          "battery_state": "idle",
          "cycle_fraction": 0,
          "datetime": "2024-12-12T05:00:00",
          "energy_kwh": 0,
          "grid_cost_eur": 0,
          "power_w": 0,
          "price_eur_kwh": 0.16398,
          "soc_end": 0.8946382720295134,
          "soc_start": 0.8946382720295134
         },
         {
          "battery_state": "idle",
          "cycle_fraction": 0,
          "datetime": "2024-12-12T06:00:00",
          "energy_kwh": 0,
          "grid_cost_eur": 0,
          "power_w": 0,
          "price_eur_kwh": 0.23297,
          "soc_end": 0.8946382720295134,
          "soc_start": 0.8946382720295134
         },
         {
          "battery_state": "discharging",
          "cycle_fraction": 0.1081764054278593,
          "datetime": "2024-12-12T07:00:00",
          "energy_kwh": -2.7,
          "grid_cost_eur": -1.4037300000000001,
          "power_w": -3000,
          "price_eur_kwh": 0.5199,
          "soc_end": 0.808097147687226,
          "soc_start": 0.8946382720295134
         },
         {
          "battery_state": "discharging",
          "cycle_fraction": 0.1081764054278593,
          "datetime": "2024-12-12T08:00:00",
          "energy_kwh": -2.7,
          "grid_cost_eur": -1.5699960000000002,
          "power_w": -3000,
          "price_eur_kwh": 0.58148,
          "soc_end": 0.7215560233449385,
          "soc_start": 0.808097147687226
         },
         {
          "battery_state": "discharging",
          "cycle_fraction": 0.1081764054278593,
          "datetime": "2024-12-12T09:00:00",
          "energy_kwh": -2.7,
          "grid_cost_eur": -1.35,
          "power_w": -3000,
          "price_eur_kwh": 0.5,
          "soc_end": 0.6350148990026511,
          "soc_start": 0.7215560233449385
         },
         {
          "battery_state": "idle",
          "cycle_fraction": 0,
          "datetime": "2024-12-12T10:00:00",
          "energy_kwh": 0,
          "grid_cost_eur": 0,
          "power_w": 0,
          "price_eur_kwh": 0.43369,
          "soc_end": 0.6350148990026511,
          "soc_start": 0.6350148990026511
         },
         {
          "battery_state": "idle",
          "cycle_fraction": 0,
          "datetime": "2024-12-12T11:00:00",
          "energy_kwh": 0,
          "grid_cost_eur": 0,
          "power_w": 0,
          "price_eur_kwh": 0.38112,
          "soc_end": 0.6350148990026511,
          "soc_start": 0.6350148990026511
         },
         {
          "battery_state": "idle",
          "cycle_fraction": 0,
          "datetime": "2024-12-12T12:00:00",
          "energy_kwh": 0,
          "grid_cost_eur": 0,
          "power_w": 0,
          "price_eur_kwh": 0.4001,
          "soc_end": 0.6350148990026511,
          "soc_start": 0.6350148990026511
         },
         {
          "battery_state": "discharging",
          "cycle_fraction": 0.061009732991784416,
          "datetime": "2024-12-12T13:00:00",
          "energy_kwh": -1.5227560800000002,
          "grid_cost_eur": -0.7098936569352001,
          "power_w": -1691.9512000000002,
          "price_eur_kwh": 0.46619,
          "soc_end": 0.5862071126092235,
          "soc_start": 0.6350148990026511
         },
         {
          "battery_state": "discharging",
          "cycle_fraction": 0.1081764054278593,
          "datetime": "2024-12-12T14:00:00",
          "energy_kwh": -2.7,
          "grid_cost_eur": -1.7222220000000001,
          "power_w": -3000,
          "price_eur_kwh": 0.63786,
          "soc_end": 0.4996659882669361,
          "soc_start": 0.5862071126092235
         },
         {
          "battery_state": "discharging",
          "cycle_fraction": 0.1081764054278593,
          "datetime": "2024-12-12T15:00:00",
          "energy_kwh": -2.7,
          "grid_cost_eur": -2.072709,
          "power_w": -3000,
          "price_eur_kwh": 0.76767,
          "soc_end": 0.41312486392464864,
          "soc_start": 0.4996659882669361
         },
         {
          "battery_state": "discharging",
          "cycle_fraction": 0.1081764054278593,
          "datetime": "2024-12-12T16:00:00",
          "energy_kwh": -2.7,
          "grid_cost_eur": -2.356992,
          "power_w": -3000,
          "price_eur_kwh": 0.87296,
          "soc_end": 0.3265837395823612,
          "soc_start": 0.41312486392464864
         },
         {
          "battery_state": "discharging",
          "cycle_fraction": 0.1081764054278593,
          "datetime": "2024-12-12T17:00:00",
          "energy_kwh": -2.7,
          "grid_cost_eur": -1.6963290000000002,
          "power_w": -3000,
          "price_eur_kwh": 0.62827,
          "soc_end": 0.24004261524007375,
          "soc_start": 0.3265837395823612
         },
         {
          "battery_state": "discharging",
          "cycle_fraction": 0.1081764054278593,
          "datetime": "2024-12-12T18:00:00",
          "energy_kwh": -2.7,
          "grid_cost_eur": -1.3972499999999999,
          "power_w": -3000,
          "price_eur_kwh": 0.5175,
          "soc_end": 0.1535014908977863,
          "soc_start": 0.24004261524007375
         },
         {
          "battery_state": "idle",
          "cycle_fraction": 0,
          "datetime": "2024-12-12T19:00:00",
          "energy_kwh": 0,
          "grid_cost_eur": 0,
          "power_w": 0,
          "price_eur_kwh": 0.28537,
          "soc_end": 0.1535014908977863,
          "soc_start": 0.1535014908977863
         },
         {
          "battery_state": "idle",
          "cycle_fraction": 0,
          "datetime": "2024-12-12T20:00:00",
          "energy_kwh": 0,
          "grid_cost_eur": 0,
          "power_w": 0,
          "price_eur_kwh": 0.1694,
          "soc_end": 0.1535014908977863,
          "soc_start": 0.1535014908977863
         },
         {
          "battery_state": "charging",
          "cycle_fraction": 0.05288624169205204,
          "datetime": "2024-12-12T21:00:00",
          "energy_kwh": 1.6296296,
          "grid_cost_eur": 0.24444443999999999,
          "power_w": 1629.6296,
          "price_eur_kwh": 0.15,
          "soc_end": 0.19581048425142794,
          "soc_start": 0.1535014908977863
         },
         {
          "battery_state": "charging",
          "cycle_fraction": 0.1298116865134312,
          "datetime": "2024-12-12T22:00:00",
          "energy_kwh": 4,
          "grid_cost_eur": 0.539,
          "power_w": 4000,
          "price_eur_kwh": 0.13475,
          "soc_end": 0.2996598334621729,
          "soc_start": 0.19581048425142794
         },
         {
          "battery_state": "charging",
          "cycle_fraction": 0.1298116865134312,
          "datetime": "2024-12-12T23:00:00",
          "energy_kwh": 4,
          "grid_cost_eur": 0.5204,
          "power_w": 4000,
          "price_eur_kwh": 0.1301,
          "soc_end": 0.40350918267291785,
          "soc_start": 0.2996598334621729
         },
         {
          "battery_state": "charging",
          "cycle_fraction": 0.10136677534789536,
          "datetime": "2024-12-13T00:00:00",
          "energy_kwh": 3.1235023,
          "grid_cost_eur": 0.38387843267,
          "power_w": 3123.5023,
          "price_eur_kwh": 0.1229,
          "soc_end": 0.48460260295123414,
          "soc_start": 0.40350918267291785
         },
         {
          "battery_state": "charging",
          "cycle_fraction": 0.1298116865134312,
          "datetime": "2024-12-13T01:00:00",
          "energy_kwh": 4,
          "grid_cost_eur": 0.476,
          "power_w": 4000,
          "price_eur_kwh": 0.119,
          "soc_end": 0.5884519521619791,
          "soc_start": 0.48460260295123414
         },
         {
          "battery_state": "charging",
          "cycle_fraction": 0.1298116865134312,
          "datetime": "2024-12-13T02:00:00",
          "energy_kwh": 4,
          "grid_cost_eur": 0.46,
          "power_w": 4000,
          "price_eur_kwh": 0.115,
          "soc_end": 0.692301301372724,
          "soc_start": 0.5884519521619791
         },
         {
          "battery_state": "charging",
          "cycle_fraction": 0.1298116865134312,
          "datetime": "2024-12-13T03:00:00",
          "energy_kwh": 4,
          "grid_cost_eur": 0.4624,
          "power_w": 4000,
          "price_eur_kwh": 0.1156,
          "soc_end": 0.796150650583469,
          "soc_start": 0.692301301372724
         },
         {
          "battery_state": "charging",
          "cycle_fraction": 0.11683051809359746,
          "datetime": "2024-12-13T04:00:00",
          "energy_kwh": 3.6000000071336973,
          "grid_cost_eur": 0.43164000085533033,
          "power_w": 3600.000007133697,
          "price_eur_kwh": 0.1199,
          "soc_end": 0.889615065058347,
          "soc_start": 0.796150650583469
         },
         {
          "battery_state": "idle",
          "cycle_fraction": 0,
          "datetime": "2024-12-13T05:00:00",
          "energy_kwh": 0,
          "grid_cost_eur": 0,
          "power_w": 0,
          "price_eur_kwh": 0.1501,
          "soc_end": 0.889615065058347,
          "soc_start": 0.889615065058347
         },
         {
          "battery_state": "discharging",
          "cycle_fraction": 0.03458875657712551,
          "datetime": "2024-12-13T06:00:00",
          "energy_kwh": -0.8633088,
          "grid_cost_eur": -0.1618704,
          "power_w": -959.232,
          "price_eur_kwh": 0.1875,
          "soc_end": 0.8619440597966466,
          "soc_start": 0.889615065058347
         },
         {
          "battery_state": "discharging",
          "cycle_fraction": 0.1081764054278593,
          "datetime": "2024-12-13T07:00:00",
          "energy_kwh": -2.7,
          "grid_cost_eur": -0.6831,
          "power_w": -3000,
          "price_eur_kwh": 0.253,
          "soc_end": 0.7754029354543591,
          "soc_start": 0.8619440597966466
         },
         {
          "battery_state": "discharging",
          "cycle_fraction": 0.1081764054278593,
          "datetime": "2024-12-13T08:00:00",
          "energy_kwh": -2.7,
          "grid_cost_eur": -0.66339,
          "power_w": -3000,
          "price_eur_kwh": 0.2457,
          "soc_end": 0.6888618111120717,
          "soc_start": 0.7754029354543591
         },
         {
          "battery_state": "discharging",
          "cycle_fraction": 0.1081764054278593,
          "datetime": "2024-12-13T09:00:00",
          "energy_kwh": -2.7,
          "grid_cost_eur": -0.5626800000000001,
          "power_w": -3000,
          "price_eur_kwh": 0.2084,
          "soc_end": 0.6023206867697842,
          "soc_start": 0.6888618111120717
         },
         {
          "battery_state": "idle",
          "cycle_fraction": 0,
          "datetime": "2024-12-13T10:00:00",
          "energy_kwh": 0,
          "grid_cost_eur": 0,
          "power_w": 0,
          "price_eur_kwh": 0.1743,
          "soc_end": 0.6023206867697842,
          "soc_start": 0.6023206867697842
         },
         {
          "battery_state": "idle",
          "cycle_fraction": 0,
          "datetime": "2024-12-13T11:00:00",
          "energy_kwh": 0,
          "grid_cost_eur": 0,
          "power_w": 0,
          "price_eur_kwh": 0.166,
          "soc_end": 0.6023206867697842,
          "soc_start": 0.6023206867697842
         },
         {
          "battery_state": "idle",
          "cycle_fraction": 0,
          "datetime": "2024-12-13T12:00:00",
          "energy_kwh": 0,
          "grid_cost_eur": 0,
          "power_w": 0,
          "price_eur_kwh": 0.165,
          "soc_end": 0.6023206867697842,
          "soc_start": 0.6023206867697842
         },
         {
          "battery_state": "discharging",
          "cycle_fraction": 0.024228745499861593,
          "datetime": "2024-12-13T13:00:00",
          "energy_kwh": -0.6047308800000001,
          "grid_cost_eur": -0.11157284736000002,
          "power_w": -671.9232000000001,
          "price_eur_kwh": 0.1845,
          "soc_end": 0.582937690369895,
          "soc_start": 0.6023206867697842
         },
         {
          "battery_state": "discharging",
          "cycle_fraction": 0.1081764054278593,
          "datetime": "2024-12-13T14:00:00",
          "energy_kwh": -2.7,
          "grid_cost_eur": -0.59346,
          "power_w": -3000,
          "price_eur_kwh": 0.2198,
          "soc_end": 0.4963965660276075,
          "soc_start": 0.582937690369895
         },
         {
          "battery_state": "discharging",
          "cycle_fraction": 0.1081764054278593,
          "datetime": "2024-12-13T15:00:00",
          "energy_kwh": -2.7,
          "grid_cost_eur": -0.67311,
          "power_w": -3000,
          "price_eur_kwh": 0.2493,
          "soc_end": 0.40985544168532007,
          "soc_start": 0.4963965660276075
         },
         {
          "battery_state": "discharging",
          "cycle_fraction": 0.1081764054278593,
          "datetime": "2024-12-13T16:00:00",
          "energy_kwh": -2.7,
          "grid_cost_eur": -0.76734,
          "power_w": -3000,
          "price_eur_kwh": 0.2842,
          "soc_end": 0.3233143173430326,
          "soc_start": 0.40985544168532007
         },
         {
          "battery_state": "discharging",
          "cycle_fraction": 0.1081764054278593,
          "datetime": "2024-12-13T17:00:00",
          "energy_kwh": -2.7,
          "grid_cost_eur": -0.7020000000000001,
          "power_w": -3000,
          "price_eur_kwh": 0.26,
          "soc_end": 0.23677319300074517,
          "soc_start": 0.3233143173430326
         },
         {
          "battery_state": "discharging",
          "cycle_fraction": 0.1081764054278593,
          "datetime": "2024-12-13T18:00:00",
          "energy_kwh": -2.7,
          "grid_cost_eur": -0.60912,
          "power_w": -3000,
          "price_eur_kwh": 0.2256,
          "soc_end": 0.15023206865845773,
          "soc_start": 0.23677319300074517
         },
         {
          "battery_state": "idle",
          "cycle_fraction": 0,
          "datetime": "2024-12-13T19:00:00",
          "energy_kwh": 0,
          "grid_cost_eur": 0,
          "power_w": 0,
          "price_eur_kwh": 0.175,
          "soc_end": 0.15023206865845773,
          "soc_start": 0.15023206865845773
         },
         {
          "battery_state": "idle",
          "cycle_fraction": 0,
          "datetime": "2024-12-13T20:00:00",
          "energy_kwh": 0,
          "grid_cost_eur": 0,
          "power_w": 0,
          "price_eur_kwh": 0.1462,
          "soc_end": 0.15023206865845773,
          "soc_start": 0.15023206865845773
         },
         {
          "battery_state": "idle",
          "cycle_fraction": 0,
          "datetime": "2024-12-13T21:00:00",
          "energy_kwh": 0,
          "grid_cost_eur": 0,
          "power_w": 0,
          "price_eur_kwh": 0.1351,
          "soc_end": 0.15023206865845773,
          "soc_start": 0.15023206865845773
         },
         {
          "battery_state": "idle",
          "cycle_fraction": 0,
          "datetime": "2024-12-13T22:00:00",
          "energy_kwh": 0,
          "grid_cost_eur": 0,
          "power_w": 0,
          "price_eur_kwh": 0.1165,
          "soc_end": 0.15023206865845773,
          "soc_start": 0.15023206865845773
         },
         {
          "battery_state": "idle",
          "cycle_fraction": 0,
          "datetime": "2024-12-13T23:00:00",
          "energy_kwh": 0,
          "grid_cost_eur": 0,
          "power_w": 0,
          "price_eur_kwh": 0.11694,
          "soc_end": 0.15023206865845773,
          "soc_start": 0.15023206865845773
         }
        ],
        "data-88b26f136b15156d449cb13d57104713": [
         {
          "midnight": "2024-12-11T00:00:00"
         },
         {
          "midnight": "2024-12-12T00:00:00"
         },
         {
          "midnight": "2024-12-13T00:00:00"
         }
        ],
        "data-8dbe96ffe4fd763079e8f335af9211ff": [
         {
          "datetime_end": "2024-12-10T09:00:00",
          "datetime_start": "2024-12-10T08:00:00",
          "state": "discharging"
         },
         {
          "datetime_end": "2024-12-10T11:00:00",
          "datetime_start": "2024-12-10T10:00:00",
          "state": "discharging"
         },
         {
          "datetime_end": "2024-12-10T13:00:00",
          "datetime_start": "2024-12-10T12:00:00",
          "state": "discharging"
         },
         {
          "datetime_end": "2024-12-10T14:00:00",
          "datetime_start": "2024-12-10T13:00:00",
          "state": "discharging"
         },
         {
          "datetime_end": "2024-12-10T15:00:00",
          "datetime_start": "2024-12-10T14:00:00",
          "state": "discharging"
         },
         {
          "datetime_end": "2024-12-10T16:00:00",
          "datetime_start": "2024-12-10T15:00:00",
          "state": "discharging"
         },
         {
          "datetime_end": "2024-12-10T17:00:00",
          "datetime_start": "2024-12-10T16:00:00",
          "state": "discharging"
         },
         {
          "datetime_end": "2024-12-10T18:00:00",
          "datetime_start": "2024-12-10T17:00:00",
          "state": "discharging"
         },
         {
          "datetime_end": "2024-12-10T19:00:00",
          "datetime_start": "2024-12-10T18:00:00",
          "state": "discharging"
         },
         {
          "datetime_end": "2024-12-11T10:00:00",
          "datetime_start": "2024-12-11T09:00:00",
          "state": "discharging"
         },
         {
          "datetime_end": "2024-12-11T11:00:00",
          "datetime_start": "2024-12-11T10:00:00",
          "state": "discharging"
         },
         {
          "datetime_end": "2024-12-11T12:00:00",
          "datetime_start": "2024-12-11T11:00:00",
          "state": "discharging"
         },
         {
          "datetime_end": "2024-12-11T13:00:00",
          "datetime_start": "2024-12-11T12:00:00",
          "state": "discharging"
         },
         {
          "datetime_end": "2024-12-11T14:00:00",
          "datetime_start": "2024-12-11T13:00:00",
          "state": "discharging"
         },
         {
          "datetime_end": "2024-12-11T15:00:00",
          "datetime_start": "2024-12-11T14:00:00",
          "state": "discharging"
         },
         {
          "datetime_end": "2024-12-11T16:00:00",
          "datetime_start": "2024-12-11T15:00:00",
          "state": "discharging"
         },
         {
          "datetime_end": "2024-12-11T17:00:00",
          "datetime_start": "2024-12-11T16:00:00",
          "state": "discharging"
         },
         {
          "datetime_end": "2024-12-11T18:00:00",
          "datetime_start": "2024-12-11T17:00:00",
          "state": "discharging"
         },
         {
          "datetime_end": "2024-12-11T19:00:00",
          "datetime_start": "2024-12-11T18:00:00",
          "state": "discharging"
         },
         {
          "datetime_end": "2024-12-12T08:00:00",
          "datetime_start": "2024-12-12T07:00:00",
          "state": "discharging"
         },
         {
          "datetime_end": "2024-12-12T09:00:00",
          "datetime_start": "2024-12-12T08:00:00",
          "state": "discharging"
         },
         {
          "datetime_end": "2024-12-12T10:00:00",
          "datetime_start": "2024-12-12T09:00:00",
          "state": "discharging"
         },
         {
          "datetime_end": "2024-12-12T14:00:00",
          "datetime_start": "2024-12-12T13:00:00",
          "state": "discharging"
         },
         {
          "datetime_end": "2024-12-12T15:00:00",
          "datetime_start": "2024-12-12T14:00:00",
          "state": "discharging"
         },
         {
          "datetime_end": "2024-12-12T16:00:00",
          "datetime_start": "2024-12-12T15:00:00",
          "state": "discharging"
         },
         {
          "datetime_end": "2024-12-12T17:00:00",
          "datetime_start": "2024-12-12T16:00:00",
          "state": "discharging"
         },
         {
          "datetime_end": "2024-12-12T18:00:00",
          "datetime_start": "2024-12-12T17:00:00",
          "state": "discharging"
         },
         {
          "datetime_end": "2024-12-12T19:00:00",
          "datetime_start": "2024-12-12T18:00:00",
          "state": "discharging"
         },
         {
          "datetime_end": "2024-12-13T07:00:00",
          "datetime_start": "2024-12-13T06:00:00",
          "state": "discharging"
         },
         {
          "datetime_end": "2024-12-13T08:00:00",
          "datetime_start": "2024-12-13T07:00:00",
          "state": "discharging"
         },
         {
          "datetime_end": "2024-12-13T09:00:00",
          "datetime_start": "2024-12-13T08:00:00",
          "state": "discharging"
         },
         {
          "datetime_end": "2024-12-13T10:00:00",
          "datetime_start": "2024-12-13T09:00:00",
          "state": "discharging"
         },
         {
          "datetime_end": "2024-12-13T14:00:00",
          "datetime_start": "2024-12-13T13:00:00",
          "state": "discharging"
         },
         {
          "datetime_end": "2024-12-13T15:00:00",
          "datetime_start": "2024-12-13T14:00:00",
          "state": "discharging"
         },
         {
          "datetime_end": "2024-12-13T16:00:00",
          "datetime_start": "2024-12-13T15:00:00",
          "state": "discharging"
         },
         {
          "datetime_end": "2024-12-13T17:00:00",
          "datetime_start": "2024-12-13T16:00:00",
          "state": "discharging"
         },
         {
          "datetime_end": "2024-12-13T18:00:00",
          "datetime_start": "2024-12-13T17:00:00",
          "state": "discharging"
         },
         {
          "datetime_end": "2024-12-13T19:00:00",
          "datetime_start": "2024-12-13T18:00:00",
          "state": "discharging"
         }
        ],
        "data-c5c07e3c106270e03eb6bf4a196bd93b": [
         {
          "datetime_end": "2024-12-10T01:00:00",
          "datetime_start": "2024-12-10T00:00:00",
          "state": "charging"
         },
         {
          "datetime_end": "2024-12-10T02:00:00",
          "datetime_start": "2024-12-10T01:00:00",
          "state": "charging"
         },
         {
          "datetime_end": "2024-12-10T03:00:00",
          "datetime_start": "2024-12-10T02:00:00",
          "state": "charging"
         },
         {
          "datetime_end": "2024-12-10T04:00:00",
          "datetime_start": "2024-12-10T03:00:00",
          "state": "charging"
         },
         {
          "datetime_end": "2024-12-10T22:00:00",
          "datetime_start": "2024-12-10T21:00:00",
          "state": "charging"
         },
         {
          "datetime_end": "2024-12-11T00:00:00",
          "datetime_start": "2024-12-10T23:00:00",
          "state": "charging"
         },
         {
          "datetime_end": "2024-12-11T01:00:00",
          "datetime_start": "2024-12-11T00:00:00",
          "state": "charging"
         },
         {
          "datetime_end": "2024-12-11T02:00:00",
          "datetime_start": "2024-12-11T01:00:00",
          "state": "charging"
         },
         {
          "datetime_end": "2024-12-11T03:00:00",
          "datetime_start": "2024-12-11T02:00:00",
          "state": "charging"
         },
         {
          "datetime_end": "2024-12-11T04:00:00",
          "datetime_start": "2024-12-11T03:00:00",
          "state": "charging"
         },
         {
          "datetime_end": "2024-12-11T05:00:00",
          "datetime_start": "2024-12-11T04:00:00",
          "state": "charging"
         },
         {
          "datetime_end": "2024-12-11T06:00:00",
          "datetime_start": "2024-12-11T05:00:00",
          "state": "charging"
         },
         {
          "datetime_end": "2024-12-11T22:00:00",
          "datetime_start": "2024-12-11T21:00:00",
          "state": "charging"
         },
         {
          "datetime_end": "2024-12-11T23:00:00",
          "datetime_start": "2024-12-11T22:00:00",
          "state": "charging"
         },
         {
          "datetime_end": "2024-12-12T00:00:00",
          "datetime_start": "2024-12-11T23:00:00",
          "state": "charging"
         },
         {
          "datetime_end": "2024-12-12T01:00:00",
          "datetime_start": "2024-12-12T00:00:00",
          "state": "charging"
         },
         {
          "datetime_end": "2024-12-12T02:00:00",
          "datetime_start": "2024-12-12T01:00:00",
          "state": "charging"
         },
         {
          "datetime_end": "2024-12-12T03:00:00",
          "datetime_start": "2024-12-12T02:00:00",
          "state": "charging"
         },
         {
          "datetime_end": "2024-12-12T04:00:00",
          "datetime_start": "2024-12-12T03:00:00",
          "state": "charging"
         },
         {
          "datetime_end": "2024-12-12T05:00:00",
          "datetime_start": "2024-12-12T04:00:00",
          "state": "charging"
         },
         {
          "datetime_end": "2024-12-12T22:00:00",
          "datetime_start": "2024-12-12T21:00:00",
          "state": "charging"
         },
         {
          "datetime_end": "2024-12-12T23:00:00",
          "datetime_start": "2024-12-12T22:00:00",
          "state": "charging"
         },
         {
          "datetime_end": "2024-12-13T00:00:00",
          "datetime_start": "2024-12-12T23:00:00",
          "state": "charging"
         },
         {
          "datetime_end": "2024-12-13T01:00:00",
          "datetime_start": "2024-12-13T00:00:00",
          "state": "charging"
         },
         {
          "datetime_end": "2024-12-13T02:00:00",
          "datetime_start": "2024-12-13T01:00:00",
          "state": "charging"
         },
         {
          "datetime_end": "2024-12-13T03:00:00",
          "datetime_start": "2024-12-13T02:00:00",
          "state": "charging"
         },
         {
          "datetime_end": "2024-12-13T04:00:00",
          "datetime_start": "2024-12-13T03:00:00",
          "state": "charging"
         },
         {
          "datetime_end": "2024-12-13T05:00:00",
          "datetime_start": "2024-12-13T04:00:00",
          "state": "charging"
         }
        ]
       },
       "height": 350,
       "layer": [
        {
         "data": {
          "name": "data-c5c07e3c106270e03eb6bf4a196bd93b"
         },
         "encoding": {
          "x": {
           "field": "datetime_start",
           "type": "temporal"
          },
          "x2": {
           "field": "datetime_end"
          }
         },
         "mark": {
          "color": "green",
          "opacity": 0.2,
          "type": "rect"
         }
        },
        {
         "data": {
          "name": "data-8dbe96ffe4fd763079e8f335af9211ff"
         },
         "encoding": {
          "x": {
           "field": "datetime_start",
           "type": "temporal"
          },
          "x2": {
           "field": "datetime_end"
          }
         },
         "mark": {
          "color": "red",
          "opacity": 0.2,
          "type": "rect"
         }
        },
        {
         "data": {
          "name": "data-88b26f136b15156d449cb13d57104713"
         },
         "encoding": {
          "x": {
           "field": "midnight",
           "type": "temporal"
          }
         },
         "mark": {
          "color": "lightgray",
          "opacity": 0.3,
          "strokeDash": [
           3,
           3
          ],
          "strokeWidth": 2,
          "type": "rule"
         }
        },
        {
         "data": {
          "name": "data-3cde77566bc03565e0daf2251b59927e"
         },
         "encoding": {
          "color": {
           "condition": {
            "test": "(datum.price_eur_kwh >= 0)",
            "value": "#f1c40f"
           },
           "value": "#2ecc71"
          },
          "tooltip": [
           {
            "field": "datetime",
            "title": "Date/Time",
            "type": "temporal"
           },
           {
            "field": "price_eur_kwh",
            "format": ".4f",
            "title": "Price (€/kWh)",
            "type": "quantitative"
           },
           {
            "field": "soc_end",
            "format": ".0%",
            "title": "SOC",
            "type": "quantitative"
           },
           {
            "field": "power_w",
            "format": ".0f",
            "title": "Power (W)",
            "type": "quantitative"
           },
           {
            "field": "battery_state",
            "title": "Battery State",
            "type": "nominal"
           }
          ],
          "x": {
           "axis": {
            "grid": false
           },
           "field": "datetime",
           "scale": {
            "padding": 25
           },
           "title": "Date/Time",
           "type": "temporal"
          },
          "y": {
           "field": "price_eur_kwh",
           "scale": {},
           "title": "Price (€/kWh)",
           "type": "quantitative"
          }
         },
         "mark": {
          "align": "left",
          "cornerRadiusTopLeft": 4,
          "cornerRadiusTopRight": 4,
          "size": 14,
          "type": "bar"
         }
        },
        {
         "data": {
          "name": "data-3cde77566bc03565e0daf2251b59927e"
         },
         "encoding": {
          "tooltip": [
           {
            "field": "datetime",
            "title": "Date/Time",
            "type": "temporal"
           },
           {
            "field": "soc_end",
            "format": ".1%",
            "title": "SOC",
            "type": "quantitative"
           },
           {
            "field": "price_eur_kwh",
            "format": ".2f",
            "title": "Price (€/kWh)",
            "type": "quantitative"
           }
          ],
          "x": {
           "field": "datetime",
           "type": "temporal"
          },
          "y": {
           "axis": {
            "format": "%"
           },
           "field": "soc_end",
           "scale": {
            "domain": [
             0,
             1
            ]
           },
           "title": "Battery SOC (%)",
           "type": "quantitative"
          }
         },
         "mark": {
          "color": "#4b8ac4",
          "interpolate": "basis",
          "strokeWidth": 3,
          "type": "line"
         }
        }
       ],
       "resolve": {
        "scale": {
         "y": "independent"
        }
       },
       "title": "Battery Operation - 2024-12-10 to 2024-12-13",
       "width": 1920
      },
      "text/plain": [
       "<VegaLite 5 object>\n",
       "\n",
       "If you see this message, it means the renderer has not been properly enabled\n",
       "for the frontend that you are using. For more information, see\n",
       "https://altair-viz.github.io/user_guide/display_frontends.html#troubleshooting\n"
      ]
     },
     "execution_count": 5,
     "metadata": {},
     "output_type": "execute_result"
    }
   ],
   "source": [
    "# Visualize LP algorithm operation\n",
    "lp_chart = plot_hourly_battery_operation(results_lp, \"2024-12-10\", days=4)\n",
    "lp_chart\n"
   ]
  },
  {
   "cell_type": "code",
   "execution_count": 6,
   "id": "c516ae4a",
   "metadata": {},
   "outputs": [
    {
     "name": "stdout",
     "output_type": "stream",
     "text": [
      "Total profit: €2556.00\n",
      "Total Battery Cycles: 2192.8 cycles\n"
     ]
    }
   ],
   "source": [
    "print(f\"Total profit: €{-results_lp['grid_cost_eur'].sum():.2f}\")\n",
    "print(f\"Total Battery Cycles: {results_lp['cycle_fraction'].sum():.1f} cycles\")"
   ]
  },
  {
   "cell_type": "code",
   "execution_count": 7,
   "id": "f9998033",
   "metadata": {},
   "outputs": [
    {
     "data": {
      "application/vnd.vegalite.v5+json": {
       "$schema": "https://vega.github.io/schema/vega-lite/v5.20.1.json",
       "config": {
        "view": {
         "continuousHeight": 300,
         "continuousWidth": 300
        }
       },
       "data": {
        "name": "data-7abb5c65f25df73618f95e370054e7ba"
       },
       "datasets": {
        "data-7abb5c65f25df73618f95e370054e7ba": [
         {
          "grid_cost_eur": -2.5109505744940006,
          "period": "2020-01-01T00:00:00",
          "profit_eur": 2.5109505744940006
         },
         {
          "grid_cost_eur": -3.8289789220459003,
          "period": "2020-02-01T00:00:00",
          "profit_eur": 3.8289789220459003
         },
         {
          "grid_cost_eur": -4.16390147520185,
          "period": "2020-03-01T00:00:00",
          "profit_eur": 4.16390147520185
         },
         {
          "grid_cost_eur": -6.03804095640466,
          "period": "2020-04-01T00:00:00",
          "profit_eur": 6.03804095640466
         },
         {
          "grid_cost_eur": -3.1419282438103258,
          "period": "2020-05-01T00:00:00",
          "profit_eur": 3.1419282438103258
         },
         {
          "grid_cost_eur": -2.4705826395956003,
          "period": "2020-06-01T00:00:00",
          "profit_eur": 2.4705826395956003
         },
         {
          "grid_cost_eur": -5.1962342482225505,
          "period": "2020-07-01T00:00:00",
          "profit_eur": 5.1962342482225505
         },
         {
          "grid_cost_eur": -4.791097295956064,
          "period": "2020-08-01T00:00:00",
          "profit_eur": 4.791097295956064
         },
         {
          "grid_cost_eur": -9.359815799815731,
          "period": "2020-09-01T00:00:00",
          "profit_eur": 9.359815799815731
         },
         {
          "grid_cost_eur": -5.5907915029281,
          "period": "2020-10-01T00:00:00",
          "profit_eur": 5.5907915029281
         },
         {
          "grid_cost_eur": -6.477018445175131,
          "period": "2020-11-01T00:00:00",
          "profit_eur": 6.477018445175131
         },
         {
          "grid_cost_eur": -11.32652728174135,
          "period": "2020-12-01T00:00:00",
          "profit_eur": 11.32652728174135
         },
         {
          "grid_cost_eur": -6.527746399649109,
          "period": "2021-01-01T00:00:00",
          "profit_eur": 6.527746399649109
         },
         {
          "grid_cost_eur": -6.0285794423814005,
          "period": "2021-02-01T00:00:00",
          "profit_eur": 6.0285794423814005
         },
         {
          "grid_cost_eur": -11.971069120272182,
          "period": "2021-03-01T00:00:00",
          "profit_eur": 11.971069120272182
         },
         {
          "grid_cost_eur": -12.145493539357295,
          "period": "2021-04-01T00:00:00",
          "profit_eur": 12.145493539357295
         },
         {
          "grid_cost_eur": -17.892579041972258,
          "period": "2021-05-01T00:00:00",
          "profit_eur": 17.892579041972258
         },
         {
          "grid_cost_eur": -9.444518528795237,
          "period": "2021-06-01T00:00:00",
          "profit_eur": 9.444518528795237
         },
         {
          "grid_cost_eur": -9.648216121563982,
          "period": "2021-07-01T00:00:00",
          "profit_eur": 9.648216121563982
         },
         {
          "grid_cost_eur": -13.67540148781556,
          "period": "2021-08-01T00:00:00",
          "profit_eur": 13.67540148781556
         },
         {
          "grid_cost_eur": -26.02387078689563,
          "period": "2021-09-01T00:00:00",
          "profit_eur": 26.02387078689563
         },
         {
          "grid_cost_eur": -63.458739083743495,
          "period": "2021-10-01T00:00:00",
          "profit_eur": 63.458739083743495
         },
         {
          "grid_cost_eur": -40.28331566905821,
          "period": "2021-11-01T00:00:00",
          "profit_eur": 40.28331566905821
         },
         {
          "grid_cost_eur": -64.29005973706793,
          "period": "2021-12-01T00:00:00",
          "profit_eur": 64.29005973706793
         },
         {
          "grid_cost_eur": -42.59673894233334,
          "period": "2022-01-01T00:00:00",
          "profit_eur": 42.59673894233334
         },
         {
          "grid_cost_eur": -44.69035766524431,
          "period": "2022-02-01T00:00:00",
          "profit_eur": 44.69035766524431
         },
         {
          "grid_cost_eur": -67.83954741900239,
          "period": "2022-03-01T00:00:00",
          "profit_eur": 67.83954741900239
         },
         {
          "grid_cost_eur": -59.02309881357273,
          "period": "2022-04-01T00:00:00",
          "profit_eur": 59.02309881357273
         },
         {
          "grid_cost_eur": -51.68430301322664,
          "period": "2022-05-01T00:00:00",
          "profit_eur": 51.68430301322664
         },
         {
          "grid_cost_eur": -54.3608448403881,
          "period": "2022-06-01T00:00:00",
          "profit_eur": 54.3608448403881
         },
         {
          "grid_cost_eur": -100.46851608695715,
          "period": "2022-07-01T00:00:00",
          "profit_eur": 100.46851608695715
         },
         {
          "grid_cost_eur": -101.85940333734771,
          "period": "2022-08-01T00:00:00",
          "profit_eur": 101.85940333734771
         },
         {
          "grid_cost_eur": -96.12601386361604,
          "period": "2022-09-01T00:00:00",
          "profit_eur": 96.12601386361604
         },
         {
          "grid_cost_eur": -62.370347073290155,
          "period": "2022-10-01T00:00:00",
          "profit_eur": 62.370347073290155
         },
         {
          "grid_cost_eur": -59.178862014298005,
          "period": "2022-11-01T00:00:00",
          "profit_eur": 59.178862014298005
         },
         {
          "grid_cost_eur": -63.474201274608475,
          "period": "2022-12-01T00:00:00",
          "profit_eur": 63.474201274608475
         },
         {
          "grid_cost_eur": -43.19852817624069,
          "period": "2023-01-01T00:00:00",
          "profit_eur": 43.19852817624069
         },
         {
          "grid_cost_eur": -18.757423311697416,
          "period": "2023-02-01T00:00:00",
          "profit_eur": 18.757423311697416
         },
         {
          "grid_cost_eur": -26.739284372405027,
          "period": "2023-03-01T00:00:00",
          "profit_eur": 26.739284372405027
         },
         {
          "grid_cost_eur": -36.45308327684036,
          "period": "2023-04-01T00:00:00",
          "profit_eur": 36.45308327684036
         },
         {
          "grid_cost_eur": -42.952900737117986,
          "period": "2023-05-01T00:00:00",
          "profit_eur": 42.952900737117986
         },
         {
          "grid_cost_eur": -32.50059445577525,
          "period": "2023-06-01T00:00:00",
          "profit_eur": 32.50059445577525
         },
         {
          "grid_cost_eur": -50.42354791419957,
          "period": "2023-07-01T00:00:00",
          "profit_eur": 50.42354791419957
         },
         {
          "grid_cost_eur": -36.147351144002684,
          "period": "2023-08-01T00:00:00",
          "profit_eur": 36.147351144002684
         },
         {
          "grid_cost_eur": -41.35764731075038,
          "period": "2023-09-01T00:00:00",
          "profit_eur": 41.35764731075038
         },
         {
          "grid_cost_eur": -45.85032732155888,
          "period": "2023-10-01T00:00:00",
          "profit_eur": 45.85032732155888
         },
         {
          "grid_cost_eur": -27.869603713889234,
          "period": "2023-11-01T00:00:00",
          "profit_eur": 27.869603713889234
         },
         {
          "grid_cost_eur": -24.7162753604827,
          "period": "2023-12-01T00:00:00",
          "profit_eur": 24.7162753604827
         },
         {
          "grid_cost_eur": -16.973670091562937,
          "period": "2024-01-01T00:00:00",
          "profit_eur": 16.973670091562937
         },
         {
          "grid_cost_eur": -12.609372998063815,
          "period": "2024-02-01T00:00:00",
          "profit_eur": 12.609372998063815
         },
         {
          "grid_cost_eur": -20.90124800875669,
          "period": "2024-03-01T00:00:00",
          "profit_eur": 20.90124800875669
         },
         {
          "grid_cost_eur": -40.93658439499801,
          "period": "2024-04-01T00:00:00",
          "profit_eur": 40.93658439499801
         },
         {
          "grid_cost_eur": -56.09382600824262,
          "period": "2024-05-01T00:00:00",
          "profit_eur": 56.09382600824262
         },
         {
          "grid_cost_eur": -55.752467027962005,
          "period": "2024-06-01T00:00:00",
          "profit_eur": 55.752467027962005
         },
         {
          "grid_cost_eur": -58.30011400279239,
          "period": "2024-07-01T00:00:00",
          "profit_eur": 58.30011400279239
         },
         {
          "grid_cost_eur": -62.88389552406067,
          "period": "2024-08-01T00:00:00",
          "profit_eur": 62.88389552406067
         },
         {
          "grid_cost_eur": -48.82279233394069,
          "period": "2024-09-01T00:00:00",
          "profit_eur": 48.82279233394069
         },
         {
          "grid_cost_eur": -35.90096739784463,
          "period": "2024-10-01T00:00:00",
          "profit_eur": 35.90096739784463
         },
         {
          "grid_cost_eur": -28.04012522670774,
          "period": "2024-11-01T00:00:00",
          "profit_eur": 28.04012522670774
         },
         {
          "grid_cost_eur": -45.443550366275446,
          "period": "2024-12-01T00:00:00",
          "profit_eur": 45.443550366275446
         },
         {
          "grid_cost_eur": -34.77936677611293,
          "period": "2025-01-01T00:00:00",
          "profit_eur": 34.77936677611293
         },
         {
          "grid_cost_eur": -20.805535464570386,
          "period": "2025-02-01T00:00:00",
          "profit_eur": 20.805535464570386
         },
         {
          "grid_cost_eur": -50.59321479606081,
          "period": "2025-03-01T00:00:00",
          "profit_eur": 50.59321479606081
         },
         {
          "grid_cost_eur": -64.64963329614946,
          "period": "2025-04-01T00:00:00",
          "profit_eur": 64.64963329614946
         },
         {
          "grid_cost_eur": -81.63881017604882,
          "period": "2025-05-01T00:00:00",
          "profit_eur": 81.63881017604882
         },
         {
          "grid_cost_eur": -75.64801936366015,
          "period": "2025-06-01T00:00:00",
          "profit_eur": 75.64801936366015
         },
         {
          "grid_cost_eur": -41.62272395786063,
          "period": "2025-07-01T00:00:00",
          "profit_eur": 41.62272395786063
         },
         {
          "grid_cost_eur": -55.87535272204383,
          "period": "2025-08-01T00:00:00",
          "profit_eur": 55.87535272204383
         },
         {
          "grid_cost_eur": -53.00657976494166,
          "period": "2025-09-01T00:00:00",
          "profit_eur": 53.00657976494166
         },
         {
          "grid_cost_eur": -16.508199851175885,
          "period": "2025-10-01T00:00:00",
          "profit_eur": 16.508199851175885
         }
        ]
       },
       "encoding": {
        "color": {
         "condition": {
          "test": "(datum.profit_eur > 0)",
          "value": "#2ecc71"
         },
         "value": "#e74c3c"
        },
        "tooltip": [
         {
          "field": "period",
          "format": "%Y-%m",
          "title": "Month",
          "type": "temporal"
         },
         {
          "field": "profit_eur",
          "format": ".2f",
          "title": "Profit (€)",
          "type": "quantitative"
         }
        ],
        "x": {
         "field": "period",
         "timeUnit": "yearmonth",
         "title": "Month",
         "type": "temporal"
        },
        "y": {
         "field": "profit_eur",
         "title": "Profit (€)",
         "type": "quantitative"
        }
       },
       "height": 400,
       "mark": {
        "cornerRadiusTopLeft": 4,
        "cornerRadiusTopRight": 4,
        "type": "bar"
       },
       "title": "Monthly Profit",
       "width": 800
      },
      "text/plain": [
       "<VegaLite 5 object>\n",
       "\n",
       "If you see this message, it means the renderer has not been properly enabled\n",
       "for the frontend that you are using. For more information, see\n",
       "https://altair-viz.github.io/user_guide/display_frontends.html#troubleshooting\n"
      ]
     },
     "execution_count": 7,
     "metadata": {},
     "output_type": "execute_result"
    }
   ],
   "source": [
    "# Weekly profit comparison for LP algorithm\n",
    "chart_lp_profit = plot_profit_by_period(\n",
    "    results_lp,\n",
    "    period=\"month\",\n",
    "    start_date=\"2020-01-01\",\n",
    "    end_date=\"2025-10-19\",\n",
    ")\n",
    "\n",
    "chart_lp_profit"
   ]
  }
 ],
 "metadata": {
  "kernelspec": {
   "display_name": ".venv",
   "language": "python",
   "name": "python3"
  },
  "language_info": {
   "codemirror_mode": {
    "name": "ipython",
    "version": 3
   },
   "file_extension": ".py",
   "mimetype": "text/x-python",
   "name": "python",
   "nbconvert_exporter": "python",
   "pygments_lexer": "ipython3",
   "version": "3.13.5"
  }
 },
 "nbformat": 4,
 "nbformat_minor": 5
}
